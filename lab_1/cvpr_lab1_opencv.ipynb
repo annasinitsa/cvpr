{
 "cells": [
  {
   "cell_type": "code",
   "execution_count": 10,
   "metadata": {},
   "outputs": [],
   "source": [
    "import cv2\n",
    "import video\n",
    "import numpy"
   ]
  },
  {
   "cell_type": "code",
   "execution_count": 11,
   "metadata": {},
   "outputs": [],
   "source": [
    "cv2.namedWindow(\"original\")\n",
    "cap = cv2.VideoCapture(0)\n",
    "\n",
    "fourcc = cv2.VideoWriter_fourcc(*'XVID')\n",
    "out = cv2.VideoWriter('output.avi',fourcc, 20.0, (640,480))\n",
    "\n",
    "while(cap.isOpened()):\n",
    "    flag, img = cap.read()\n",
    "    try:\n",
    "        out.write(img)\n",
    "        cv2.imshow('original', img)\n",
    "    except: \n",
    "        cap.release()\n",
    "        raise\n",
    "      \n",
    "    ch = cv2.waitKey(5)\n",
    "    if ch == 27:\n",
    "        break\n",
    "out.release()\n",
    "cap.release()\n",
    "cv2.destroyAllWindows()\n",
    "\n",
    "cap2 = cv2.VideoCapture('output.avi')\n",
    "out2 = cv2.VideoWriter('result.avi',fourcc, 20.0, (640,480))\n",
    "while(cap2.isOpened()):\n",
    "    ret, frame = cap2.read()\n",
    "    \n",
    "    if ret==True:\n",
    "        \n",
    "        frame = cv2.cvtColor(frame, cv2.COLOR_BGR2GRAY)\n",
    "        frame = cv2.cvtColor(frame, cv2.COLOR_GRAY2RGB);\n",
    "        \n",
    "        haar_cascade_face = cv2.CascadeClassifier('haarcascade_frontalface_default.xml')\n",
    "        faces_rects = haar_cascade_face.detectMultiScale(frame, scaleFactor = 1.2, minNeighbors = 5)\n",
    "        for (x,y,w,h) in faces_rects:\n",
    "            cv2.rectangle(frame, (x, y), (x+w, y+h), (0, 255, 0), 2)\n",
    "            cv2.line(frame, (x, y), (x+w, y+h), (0, 255, 0), 2)\n",
    "            cv2.line(frame, (x, y+h), (x+w, y), (0, 255, 0), 2)\n",
    "\n",
    "        out2.write(frame)\n",
    "        cv2.imshow('result', frame)\n",
    "    \n",
    "        ch = cv2.waitKey(5)\n",
    "        if ch == 27:\n",
    "            break\n",
    "    else: \n",
    "        break\n",
    "\n",
    "\n",
    "cap2.release()\n",
    "out2.release()\n",
    "cv2.destroyAllWindows()"
   ]
  },
  {
   "cell_type": "code",
   "execution_count": null,
   "metadata": {},
   "outputs": [],
   "source": []
  },
  {
   "cell_type": "code",
   "execution_count": null,
   "metadata": {},
   "outputs": [],
   "source": []
  }
 ],
 "metadata": {
  "kernelspec": {
   "display_name": "Python 3",
   "language": "python",
   "name": "python3"
  },
  "language_info": {
   "codemirror_mode": {
    "name": "ipython",
    "version": 3
   },
   "file_extension": ".py",
   "mimetype": "text/x-python",
   "name": "python",
   "nbconvert_exporter": "python",
   "pygments_lexer": "ipython3",
   "version": "3.8.1"
  }
 },
 "nbformat": 4,
 "nbformat_minor": 4
}
