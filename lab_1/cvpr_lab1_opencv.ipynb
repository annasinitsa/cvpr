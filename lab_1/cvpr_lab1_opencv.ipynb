{
 "cells": [
  {
   "cell_type": "code",
   "execution_count": 46,
   "metadata": {},
   "outputs": [],
   "source": [
    "import cv2\n",
    "import video\n",
    "import numpy"
   ]
  },
  {
   "cell_type": "code",
   "execution_count": 47,
   "metadata": {},
   "outputs": [],
   "source": [
    "cv2.namedWindow(\"original\")\n",
    "cap = cv2.VideoCapture(0)\n",
    "\n",
    "fourcc = cv2.VideoWriter_fourcc(*'XVID')\n",
    "out = cv2.VideoWriter('output.avi',fourcc, 20.0, (640,480))\n",
    "# kernel = numpy.array([[-1,-1,-1], [-1,9,-1], [-1,-1,-1]])\n",
    "\n",
    "while(cap.isOpened()):\n",
    "    flag, img = cap.read()\n",
    "    try:\n",
    "#       dst = cv2.cvtColor(img, cv2.COLOR_GRAY)\n",
    "        out.write(img)\n",
    "        cv2.imshow('original', img)\n",
    "    except: \n",
    "        cap.release()\n",
    "        raise\n",
    "      \n",
    "    ch = cv2.waitKey(5)\n",
    "    if ch == 27:\n",
    "        break\n",
    "out.release()\n",
    "cap.release()\n",
    "cv2.destroyAllWindows()\n",
    "\n",
    "cap2 = cv2.VideoCapture('output.avi')\n",
    "while(cap2.isOpened()):\n",
    "    ret, frame = cap2.read()\n",
    "    \n",
    "    if ret==True:\n",
    "        \n",
    "        frame = cv2.cvtColor(frame, cv2.COLOR_BGR2GRAY)\n",
    "        frame = cv2.cvtColor(frame, cv2.COLOR_GRAY2RGB);\n",
    "        start_point = (0, 0)\n",
    "        end_point = (250, 250) \n",
    "        color_green = (0, 250, 0) \n",
    "        color_blue = (250, 0, 0)\n",
    "        thickness = 22\n",
    "        frame = cv2.line(frame, start_point, end_point, color_green, thickness) \n",
    "        frame = cv2.rectangle(frame,  start_point, end_point, color_blue, thickness)\n",
    "        \n",
    "        cv2.imshow('result', frame)\n",
    "    \n",
    "        ch = cv2.waitKey(5)\n",
    "        if ch == 27:\n",
    "            break\n",
    "    else: \n",
    "        break\n",
    "\n",
    "\n",
    "cap2.release()\n",
    "cv2.destroyAllWindows()"
   ]
  },
  {
   "cell_type": "code",
   "execution_count": null,
   "metadata": {},
   "outputs": [],
   "source": []
  }
 ],
 "metadata": {
  "kernelspec": {
   "display_name": "Python 3",
   "language": "python",
   "name": "python3"
  },
  "language_info": {
   "codemirror_mode": {
    "name": "ipython",
    "version": 3
   },
   "file_extension": ".py",
   "mimetype": "text/x-python",
   "name": "python",
   "nbconvert_exporter": "python",
   "pygments_lexer": "ipython3",
   "version": "3.8.1"
  }
 },
 "nbformat": 4,
 "nbformat_minor": 4
}
